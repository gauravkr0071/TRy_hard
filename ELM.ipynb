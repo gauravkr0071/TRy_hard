{
  "nbformat": 4,
  "nbformat_minor": 0,
  "metadata": {
    "colab": {
      "name": "ELM.ipynb",
      "provenance": []
    },
    "kernelspec": {
      "name": "python3",
      "display_name": "Python 3"
    }
  },
  "cells": [
    {
      "cell_type": "code",
      "metadata": {
        "id": "Yn8QpNExwWvh",
        "colab_type": "code",
        "colab": {
          "base_uri": "https://localhost:8080/",
          "height": 154
        },
        "outputId": "0385b2dc-d123-4f5f-f0ca-c1b138d3795f"
      },
      "source": [
        "import numpy as np\n",
        "import random\n",
        "import math\n",
        "y= np.array([[0],[1],[1],[0]])\n",
        "x1= np.array([[0.1,0.1],[0.1,0.9],[0.9,0.1],[0.9,0.9]])\n",
        "def sigmoid(h):\n",
        "  v=1/(1+np.exp(-h))\n",
        "  return v\n",
        "a=sigmoid(x1) \n",
        "w=np.array([[0.50498659, 0.84712243],\n",
        " [0.23858218, 0.81175888],\n",
        " [0.42594425, 0.74593897],\n",
        " [0.67142966 ,0.25742094]])\n",
        "w=(2*w)-1\n",
        "b=np.array([[0.38323223 ,0.73730682, 0.7081114 , 0.04214633]])\n",
        "h=np.zeros((4,4))\n",
        "print(w)\n",
        "#w1,w2,w3,w4=np.array(w[0,:]),np.array(w[1,:]),np.array(w[2,:]),np.array(w[3,:])\n",
        "for i in range(4):\n",
        "  for j in range(4):\n",
        "    h[i,j]=math.tanh((np.dot(w[j,:],x1[i,:].T)+b[0,j]))\n",
        "  \n",
        "#beta=np.zeros(4,4)\n",
        "beta=np.dot(np.linalg.pinv(h),y)\n",
        "s=np.dot(h,beta)\n",
        "print(s,s.shape)\n",
        "\n",
        "   \n"
      ],
      "execution_count": null,
      "outputs": [
        {
          "output_type": "stream",
          "text": [
            "[[ 0.00997318  0.69424486]\n",
            " [-0.52283564  0.62351776]\n",
            " [-0.1481115   0.49187794]\n",
            " [ 0.34285932 -0.48515812]]\n",
            "[[ 3.55271368e-15]\n",
            " [ 1.00000000e+00]\n",
            " [ 1.00000000e+00]\n",
            " [-1.77635684e-15]] (4, 1)\n"
          ],
          "name": "stdout"
        }
      ]
    },
    {
      "cell_type": "code",
      "metadata": {
        "id": "NXjTrO3sM-EH",
        "colab_type": "code",
        "colab": {}
      },
      "source": [
        ""
      ],
      "execution_count": null,
      "outputs": []
    }
  ]
}